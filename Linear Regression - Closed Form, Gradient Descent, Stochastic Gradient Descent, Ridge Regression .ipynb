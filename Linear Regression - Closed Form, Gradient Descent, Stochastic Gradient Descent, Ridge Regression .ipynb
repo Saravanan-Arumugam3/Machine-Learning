{
  "cells": [
    {
      "cell_type": "code",
      "execution_count": 42,
      "metadata": {
        "id": "xhLOFjGKjhy2"
      },
      "outputs": [],
      "source": [
        "import pandas as pd\n",
        "import numpy as np\n",
        "import math\n",
        "from tqdm import tqdm\n",
        "from sklearn.model_selection import train_test_split\n",
        "from dataclasses import dataclass\n",
        "import matplotlib.pyplot as plt"
      ]
    },
    {
      "cell_type": "code",
      "execution_count": 261,
      "metadata": {
        "id": "o2LoLFzbjhy3"
      },
      "outputs": [],
      "source": [
        "# Older method of creating classes\n",
        "\n",
        "class LinearRegression:\n",
        "\n",
        "    def __init__(self, X, y, learningrate, maxIteration, epsilon, gd = False, sgd = False, regularization = False, regparameter = None):\n",
        "        self.learningrate = learningrate\n",
        "        self.X = X\n",
        "        self.y = y\n",
        "        self.epsilon = epsilon\n",
        "        self.maxIteration = maxIteration\n",
        "        self.gd = gd\n",
        "        self.regularization = regularization\n",
        "        self.regparameter = regparameter\n",
        "        self.sgd = sgd\n",
        "\n",
        "    def splitData(self):\n",
        "        X_train, X_test, y_train, y_test = train_test_split(self.X, self.y, test_size = 0.3, random_state=0, shuffle=True)\n",
        "        return X_train, X_test, y_train, y_test\n",
        "\n",
        "    def add_X0(self, X):\n",
        "        return np.column_stack([np.ones(X.shape[0]), X])\n",
        "\n",
        "    def normalizeTrain(self, X):\n",
        "        mean = np.mean(X, axis=0)\n",
        "        std = np.std(X, axis=0)\n",
        "        X_norm = (X - mean)/std\n",
        "        # First normalize then add column of 0 otherwise you get division by 0 error\n",
        "        X_norm = self.add_X0(X_norm)\n",
        "        return X_norm, mean, std\n",
        "\n",
        "    def normalizeTest(self, X, mean, std):\n",
        "        X_norm = (X - mean)/ std\n",
        "        X_norm = self.add_X0(X_norm)\n",
        "        return X_norm\n",
        "\n",
        "    def rank(self, X):\n",
        "        rank = np.linalg.matrix_rank(X)\n",
        "        # OR\n",
        "        # v, s, u = np.linalg.svd(X)\n",
        "        #rank = sum([1 if abs(x) > 0 else 0 for x in s])\n",
        "        return rank\n",
        "      \n",
        "    def checkFullRank(self, X):\n",
        "        rank = self.rank(X)\n",
        "        if rank == min(X.shape):\n",
        "          self.FullRank = True\n",
        "        else:\n",
        "          self.FullRank = False\n",
        "\n",
        "    def checkLowRank(self, X):\n",
        "        if X.shape[1] < X.shape[0]:\n",
        "          self.lowRank = False\n",
        "        else:\n",
        "          self.lowRank = True\n",
        "    \n",
        "    def normalEquation(self, X, y):\n",
        "        if self.regularization == True:\n",
        "          print(\"Normal Equation with Regularization\")\n",
        "          I=np.identity(X.T.dot(X).shape[0])\n",
        "          I=self.regparameter*I\n",
        "          return np.linalg.inv(X.T.dot(X)+I).dot(X.T).dot(y)\n",
        "        else:\n",
        "          print(\"Normal Equation without Regularization\")\n",
        "          return np.linalg.inv(X.T.dot(X)).dot(X.T).dot(y)\n",
        "\n",
        "    def predict(self, X):\n",
        "        return X.dot(self.w)\n",
        "\n",
        "    def sse(self, X, y):\n",
        "        y_hat = self.predict(X)\n",
        "        if self.regularization == False:\n",
        "          #print('no regularization')\n",
        "          z = ((y_hat-y) ** 2).sum()\n",
        "          #print(z)\n",
        "          return z\n",
        "        else:\n",
        "          #print('regularization')\n",
        "          z = ((y_hat-y)**2).sum() + (self.regparameter*(self.w)**2).sum()\n",
        "          #print(z)\n",
        "          return z\n",
        "\n",
        "    def costFunction(self, X, y):\n",
        "        # RMSE or SSE\n",
        "          return self.sse(X, y)\n",
        "\n",
        "    def costDerivative(self, X, y):\n",
        "        if self.regularization == True: # if regularization\n",
        "          y_hat = self.predict(X)\n",
        "          #print(X.T.dot((y_hat-y)) + self.regparameter*(self.w))\n",
        "          return (X.T.dot((y_hat-y)) + self.regparameter*(self.w))\n",
        "        else:\n",
        "          y_hat = self.predict(X)\n",
        "          #print(X.T.dot((y_hat - y)))\n",
        "          return X.T.dot((y_hat - y))\n",
        "\n",
        "    def reggradientDescent(self, X, y):\n",
        "        errors = []\n",
        "        error_prev = np.inf\n",
        "        for i in tqdm(range(self.maxIteration)):\n",
        "          gradient = self.costDerivative(X, y)\n",
        "          self.w = self.w-self.learningrate * gradient\n",
        "          #print(self.w)\n",
        "          current_error = self.costFunction(X, y)\n",
        "          #print(current_error)\n",
        "          errors.append(current_error)\n",
        "          if np.abs(current_error - error_prev) < self.epsilon:\n",
        "            print(\"Model Stopped Learning\")\n",
        "            break\n",
        "          error_prev = current_error \n",
        "        self.plot_rmse(errors)   \n",
        "\n",
        "    def gradientDescent(self, X, y):\n",
        "        errors = []\n",
        "        error_prev = np.inf\n",
        "        for i in tqdm(range(self.maxIteration)):\n",
        "          gradient = self.costDerivative(X, y)\n",
        "          self.w = self.w-self.learningrate * gradient\n",
        "          #print(self.w)\n",
        "          current_error = self.costFunction(X, y)\n",
        "          #print(current_error)\n",
        "          errors.append(current_error)\n",
        "          if np.abs(current_error - error_prev) < self.epsilon:\n",
        "            print(\"Model Stopped Learning\")\n",
        "            break\n",
        "          error_prev = current_error\n",
        "        self.plot_rmse(errors)\n",
        "\n",
        "        # plot using last method\n",
        "        # add more convergence checks yourself\n",
        "\n",
        "    def stochasticgradientDescent(self, X, y):\n",
        "        errors = []\n",
        "        error_prev = np.inf\n",
        "        for i in tqdm(range(self.maxIteration)):\n",
        "          sample_rows_X = np.random.choice(X.shape[0], size=50, replace=False)\n",
        "          sample_X = X[sample_rows_X, :]\n",
        "          sample_y = np.random.choice(y, size=50, replace=False)\n",
        "          gradient = self.costDerivative(sample_X, sample_y)\n",
        "          self.w = self.w-self.learningrate * gradient\n",
        "          #print(self.w)\n",
        "          current_error = self.costFunction(sample_X, sample_y)\n",
        "          #print(current_error)\n",
        "          errors.append(current_error)\n",
        "          if np.abs(current_error - error_prev) < self.epsilon:\n",
        "            print(\"Model Stopped Learning\")\n",
        "            break\n",
        "          error_prev = current_error\n",
        "        self.plot_rmse(errors)\n",
        "\n",
        "        # plot using last method\n",
        "        # add more convergence checks yourself\n",
        "\n",
        "    def calculate_rmse(self, X_test, y_test, theta):\n",
        "          mse = np.mean((X_test.dot(theta)-y_test)**2)\n",
        "          rmse = np.sqrt(mse)\n",
        "          return rmse\n",
        "\n",
        "    def sum_squared_errors(self, X_test, y_test, theta):\n",
        "          sse = sum((y[i] - X_test.dot(theta)[i])**2 for i in range(len(y_test)))\n",
        "          return sse\n",
        "\n",
        "    def fit(self):\n",
        "          X_train, X_test, y_train, y_test = self.splitData()\n",
        "          X_train, mean, std = self.normalizeTrain(X_train)\n",
        "          X_test = self.normalizeTest(X_test, mean, std)\n",
        "\n",
        "          #closed form\n",
        "          self.checkFullRank(X_train)\n",
        "          self.checkLowRank(X_train)\n",
        "\n",
        "          if self.FullRank and not self.lowRank and X_train.shape[0] <= 10000 and not self.gd and not self.sgd:\n",
        "            print(\"Solving using normal equation\")\n",
        "            self.w = self.normalEquation(X_train, y_train)\n",
        "          elif self.gd == True and self.regularization == True and not self.sgd:\n",
        "            # GD with Regularization\n",
        "            print(\"solving using gradient descent with regularization\")\n",
        "            self.w = np.zeros(X_train.shape[1])\n",
        "            self.reggradientDescent(X_train, y_train)\n",
        "          elif self.sgd == True:\n",
        "            print(\"solving using stochastic gradient descent\")\n",
        "            self.w = np.zeros(X_train.shape[1])\n",
        "            self.stochasticgradientDescent(X_train, y_train)\n",
        "          else:\n",
        "          # Gradient Descent\n",
        "            #initialize w\n",
        "            print(\"solving using gradient descent\")\n",
        "            self.w = np.zeros(X_train.shape[1])\n",
        "            self.gradientDescent(X_train, y_train)\n",
        "          print(self.w)\n",
        "          print(\"RMSE\")\n",
        "          print(self.calculate_rmse(X_test, y_test, self.w))\n",
        "          print(\"SSE\")\n",
        "          print(self.sum_squared_errors(X_test, y_test, self.w))\n",
        "\n",
        "    def plot_rmse(self, error_sequence):\n",
        "        \"\"\"\n",
        "        @X: error_sequence, vector of rmse\n",
        "        @does: Plots the error function\n",
        "        @return: plot\n",
        "        \"\"\"\n",
        "        # Data for plotting\n",
        "        s = np.array(error_sequence)\n",
        "        t = np.arange(s.size)\n",
        "\n",
        "        fig, ax = plt.subplots()\n",
        "        ax.plot(t, s)\n",
        "\n",
        "        #ax.set(xlabel='iterations', ylabel=self.error,\n",
        "               #title='{} trend'.format(self.error))\n",
        "        #ax.grid()\n",
        "\n",
        "        plt.legend(bbox_to_anchor=(1.05,1), loc=2, shadow=True)\n",
        "        plt.show()    \n",
        "    \n"
      ]
    },
    {
      "cell_type": "markdown",
      "source": [
        "#Housing Data"
      ],
      "metadata": {
        "id": "s4oT61TbTuzL"
      }
    },
    {
      "cell_type": "code",
      "source": [
        "# Load CSV file into a numpy array\n",
        "data = np.genfromtxt('housing.csv', delimiter=',')\n",
        "\n",
        "# Display the shape of the array\n",
        "print(data.shape)"
      ],
      "metadata": {
        "colab": {
          "base_uri": "https://localhost:8080/"
        },
        "id": "eCmrbKZx9pEx",
        "outputId": "862f1d1c-2acb-4cf6-ea84-710f854fecb4"
      },
      "execution_count": 277,
      "outputs": [
        {
          "output_type": "stream",
          "name": "stdout",
          "text": [
            "(506, 14)\n"
          ]
        }
      ]
    },
    {
      "cell_type": "code",
      "source": [
        "X = data[:,:-1]\n",
        "y = data[:,-1]"
      ],
      "metadata": {
        "id": "X6q3T_ff_F02"
      },
      "execution_count": 278,
      "outputs": []
    },
    {
      "cell_type": "code",
      "source": [
        "reg = LinearRegression(X, y, learningrate = 0.0004, maxIteration= 50000, epsilon = 0.005, gd = False, sgd = False, regularization=False, regparameter=100)\n",
        "reg.fit()\n"
      ],
      "metadata": {
        "colab": {
          "base_uri": "https://localhost:8080/"
        },
        "id": "-5ndrBx2uZK5",
        "outputId": "b131ae2c-67ac-40f0-d51c-7563b2e01b92"
      },
      "execution_count": 265,
      "outputs": [
        {
          "output_type": "stream",
          "name": "stdout",
          "text": [
            "Solving using normal equation\n",
            "Normal Equation without Regularization\n",
            "[22.74548023 -1.01189299  1.05028731  0.07922238  0.61896311 -1.87367112\n",
            "  2.70526765 -0.27955798 -3.09763515  2.09690865 -1.88608488 -2.26109811\n",
            "  0.58264435 -3.44050512]\n",
            "RMSE\n",
            "5.214973224911791\n",
            "SSE\n",
            "13531.075386516502\n"
          ]
        }
      ]
    },
    {
      "cell_type": "code",
      "source": [
        "reg = LinearRegression(X, y, learningrate = 0.0004, maxIteration= 50000, epsilon = 0.005, gd = False, sgd = False, regularization=True, regparameter=100)\n",
        "reg.fit()"
      ],
      "metadata": {
        "colab": {
          "base_uri": "https://localhost:8080/"
        },
        "id": "T3ZsrU2VNq0u",
        "outputId": "315bcb9d-1518-4569-bfcb-66beaf4340df"
      },
      "execution_count": 266,
      "outputs": [
        {
          "output_type": "stream",
          "name": "stdout",
          "text": [
            "Solving using normal equation\n",
            "Normal Equation with Regularization\n",
            "[17.73546256 -0.71542516  0.55766057 -0.46292927  0.67517581 -0.66916226\n",
            "  2.6856029  -0.32443536 -1.40894023  0.29679956 -0.58040983 -1.83852336\n",
            "  0.58334479 -2.59244735]\n",
            "RMSE\n",
            "7.505985429178002\n",
            "SSE\n",
            "14347.179431476725\n"
          ]
        }
      ]
    },
    {
      "cell_type": "code",
      "source": [
        "reg = LinearRegression(X, y, learningrate = 0.0004, maxIteration= 50000, epsilon = 0.005, gd = True, sgd = False, regularization=False, regparameter=100)\n",
        "reg.fit()"
      ],
      "metadata": {
        "colab": {
          "base_uri": "https://localhost:8080/",
          "height": 461
        },
        "id": "MF0G2m6RNwEC",
        "outputId": "b772c7f3-b5a3-4413-b2df-65c070e3d56e"
      },
      "execution_count": 267,
      "outputs": [
        {
          "output_type": "stream",
          "name": "stdout",
          "text": [
            "solving using gradient descent\n"
          ]
        },
        {
          "output_type": "stream",
          "name": "stderr",
          "text": [
            "  1%|          | 363/50000 [00:00<00:01, 30654.19it/s]\n",
            "WARNING:matplotlib.legend:No handles with labels found to put in legend.\n"
          ]
        },
        {
          "output_type": "stream",
          "name": "stdout",
          "text": [
            "Model Stopped Learning\n"
          ]
        },
        {
          "output_type": "display_data",
          "data": {
            "text/plain": [
              "<Figure size 432x288 with 1 Axes>"
            ],
            "image/png": "[encoded data removed]"
          },
          "metadata": {
            "needs_background": "light"
          }
        },
        {
          "output_type": "stream",
          "name": "stdout",
          "text": [
            "[22.74548023 -1.00695704  1.04172285  0.05071163  0.62307035 -1.86558657\n",
            "  2.71080706 -0.28572203 -3.09874371  2.02599784 -1.80638574 -2.25793522\n",
            "  0.58123396 -3.4382458 ]\n",
            "RMSE\n",
            "5.217879585785907\n",
            "SSE\n",
            "13536.65033589124\n"
          ]
        }
      ]
    },
    {
      "cell_type": "code",
      "source": [
        "reg = LinearRegression(X, y, learningrate = 0.0004, maxIteration= 50000, epsilon = 0.005, gd = True, sgd = False, regularization=True, regparameter=100)\n",
        "reg.fit()"
      ],
      "metadata": {
        "colab": {
          "base_uri": "https://localhost:8080/",
          "height": 461
        },
        "id": "SgXXAYvXNz3F",
        "outputId": "1adc65c5-613a-4949-89b7-f872343a7c52"
      },
      "execution_count": 268,
      "outputs": [
        {
          "output_type": "stream",
          "name": "stdout",
          "text": [
            "solving using gradient descent with regularization\n"
          ]
        },
        {
          "output_type": "stream",
          "name": "stderr",
          "text": [
            "  0%|          | 72/50000 [00:00<00:03, 12586.58it/s]\n",
            "WARNING:matplotlib.legend:No handles with labels found to put in legend.\n"
          ]
        },
        {
          "output_type": "stream",
          "name": "stdout",
          "text": [
            "Model Stopped Learning\n"
          ]
        },
        {
          "output_type": "display_data",
          "data": {
            "text/plain": [
              "<Figure size 432x288 with 1 Axes>"
            ],
            "image/png": "[encoded data removed]"
          },
          "metadata": {
            "needs_background": "light"
          }
        },
        {
          "output_type": "stream",
          "name": "stdout",
          "text": [
            "[17.7354547  -0.71410934  0.55453388 -0.46567416  0.67575561 -0.66237325\n",
            "  2.68829094 -0.32533549 -1.40248472  0.28731253 -0.57221965 -1.83771423\n",
            "  0.58369128 -2.59109523]\n",
            "RMSE\n",
            "7.5068734741920435\n",
            "SSE\n",
            "14348.477055418158\n"
          ]
        }
      ]
    },
    {
      "cell_type": "code",
      "source": [
        "reg = LinearRegression(X, y, learningrate = 0.0004, maxIteration= 50000, epsilon = 0.005, gd = False, sgd = True, regularization=False, regparameter=100)\n",
        "reg.fit()"
      ],
      "metadata": {
        "colab": {
          "base_uri": "https://localhost:8080/",
          "height": 461
        },
        "id": "cuqAC83FODhC",
        "outputId": "1e0c8b82-7e1a-4725-e8c4-85b020a5a50e"
      },
      "execution_count": 269,
      "outputs": [
        {
          "output_type": "stream",
          "name": "stdout",
          "text": [
            "solving using stochastic gradient descent\n"
          ]
        },
        {
          "output_type": "stream",
          "name": "stderr",
          "text": [
            "100%|██████████| 50000/50000 [00:03<00:00, 13609.83it/s]\n",
            "WARNING:matplotlib.legend:No handles with labels found to put in legend.\n"
          ]
        },
        {
          "output_type": "display_data",
          "data": {
            "text/plain": [
              "<Figure size 432x288 with 1 Axes>"
            ],
            "image/png": "[encoded data removed]"
          },
          "metadata": {
            "needs_background": "light"
          }
        },
        {
          "output_type": "stream",
          "name": "stdout",
          "text": [
            "[ 2.28767902e+01 -8.74027554e-02 -7.29129374e-02 -6.16478585e-02\n",
            " -7.15418883e-02 -9.89449794e-03  3.04046224e-01 -7.03546947e-02\n",
            " -5.37045725e-02  3.64098252e-03  7.48802312e-03  8.01857768e-02\n",
            "  1.15076838e-01 -2.57445165e-02]\n",
            "RMSE\n",
            "8.887169258745768\n",
            "SSE\n",
            "4992.9290791501\n"
          ]
        }
      ]
    },
    {
      "cell_type": "code",
      "source": [
        "reg = LinearRegression(X, y, learningrate = 0.0004, maxIteration= 50000, epsilon = 0.005, gd = False, sgd = True, regularization=True, regparameter=100)\n",
        "reg.fit()"
      ],
      "metadata": {
        "colab": {
          "base_uri": "https://localhost:8080/",
          "height": 461
        },
        "id": "kX0IFVyYUpeM",
        "outputId": "882301b5-c6d3-42f0-8605-9cd1b8ec7cf0"
      },
      "execution_count": 279,
      "outputs": [
        {
          "output_type": "stream",
          "name": "stdout",
          "text": [
            "solving using stochastic gradient descent\n"
          ]
        },
        {
          "output_type": "stream",
          "name": "stderr",
          "text": [
            "100%|██████████| 50000/50000 [00:04<00:00, 11401.29it/s]\n",
            "WARNING:matplotlib.legend:No handles with labels found to put in legend.\n"
          ]
        },
        {
          "output_type": "display_data",
          "data": {
            "text/plain": [
              "<Figure size 432x288 with 1 Axes>"
            ],
            "image/png": "[encoded data removed]"
          },
          "metadata": {
            "needs_background": "light"
          }
        },
        {
          "output_type": "stream",
          "name": "stdout",
          "text": [
            "[ 7.58058381e+00 -2.22968848e-02 -7.68648936e-03  9.14778368e-02\n",
            "  2.41060119e-01 -1.84816725e-01 -4.58968741e-02  8.44376900e-02\n",
            " -4.98542692e-02  8.04361837e-04 -1.51497415e-02 -4.01966590e-02\n",
            "  5.89841358e-02  4.19132618e-02]\n",
            "RMSE\n",
            "17.0623667826383\n",
            "SSE\n",
            "31831.44624809417\n"
          ]
        }
      ]
    },
    {
      "cell_type": "markdown",
      "source": [
        "# Yacht Data"
      ],
      "metadata": {
        "id": "H4u_4lwLT2cK"
      }
    },
    {
      "cell_type": "code",
      "source": [
        "# Load CSV file into a numpy array\n",
        "data = np.genfromtxt('yachtData.csv', delimiter=',')\n",
        "\n",
        "# Display the shape of the array\n",
        "print(data.shape)"
      ],
      "metadata": {
        "colab": {
          "base_uri": "https://localhost:8080/"
        },
        "id": "sacPs2TCTQHu",
        "outputId": "9028691a-7081-40d8-e59e-e7de35a398c3"
      },
      "execution_count": 280,
      "outputs": [
        {
          "output_type": "stream",
          "name": "stdout",
          "text": [
            "(308, 7)\n"
          ]
        }
      ]
    },
    {
      "cell_type": "code",
      "source": [
        "X = data[:,:-1]\n",
        "y = data[:,-1]"
      ],
      "metadata": {
        "id": "xMJ5ZA3rUFyO"
      },
      "execution_count": 281,
      "outputs": []
    },
    {
      "cell_type": "code",
      "source": [
        "reg = LinearRegression(X, y, learningrate = 0.001, maxIteration= 50000, epsilon = 0.001, gd = False, sgd = False, regularization=False, regparameter=100)\n",
        "reg.fit()"
      ],
      "metadata": {
        "colab": {
          "base_uri": "https://localhost:8080/"
        },
        "id": "WdxL5YRPUJcb",
        "outputId": "1a57f3a9-8383-468b-db61-595f821b1e74"
      },
      "execution_count": 282,
      "outputs": [
        {
          "output_type": "stream",
          "name": "stdout",
          "text": [
            "Solving using normal equation\n",
            "Normal Equation without Regularization\n",
            "[11.23939535  0.81790302  0.20369276  2.97602416 -2.75890138 -3.83325201\n",
            " 12.9328097 ]\n",
            "RMSE\n",
            "8.80194763079057\n",
            "SSE\n",
            "25185.91803691457\n"
          ]
        }
      ]
    },
    {
      "cell_type": "code",
      "source": [
        "reg = LinearRegression(X, y, learningrate = 0.001, maxIteration= 50000, epsilon = 0.001, gd = False, sgd = False, regularization=True, regparameter=100)\n",
        "reg.fit()"
      ],
      "metadata": {
        "colab": {
          "base_uri": "https://localhost:8080/"
        },
        "id": "2scbHdJ2UKvU",
        "outputId": "ea87bd8f-d626-4cd9-fef7-33ba1647d549"
      },
      "execution_count": 283,
      "outputs": [
        {
          "output_type": "stream",
          "name": "stdout",
          "text": [
            "Solving using normal equation\n",
            "Normal Equation with Regularization\n",
            "[ 7.67133333  0.62686265 -0.45037461 -0.35431425 -0.10386047 -0.52005706\n",
            "  8.83202127]\n",
            "RMSE\n",
            "8.836200337113878\n",
            "SSE\n",
            "20588.543793375095\n"
          ]
        }
      ]
    },
    {
      "cell_type": "code",
      "source": [
        "reg = LinearRegression(X, y, learningrate = 0.001, maxIteration= 50000, epsilon = 0.001, gd = True, sgd = False, regularization=False, regparameter=100)\n",
        "reg.fit()"
      ],
      "metadata": {
        "colab": {
          "base_uri": "https://localhost:8080/",
          "height": 444
        },
        "id": "Ft3hWQY_UN3Q",
        "outputId": "0f9763ab-d54c-4070-d9d0-b4a0759a16cb"
      },
      "execution_count": 284,
      "outputs": [
        {
          "output_type": "stream",
          "name": "stdout",
          "text": [
            "solving using gradient descent\n"
          ]
        },
        {
          "output_type": "stream",
          "name": "stderr",
          "text": [
            "  3%|▎         | 1643/50000 [00:00<00:01, 28782.22it/s]\n",
            "WARNING:matplotlib.legend:No handles with labels found to put in legend.\n"
          ]
        },
        {
          "output_type": "stream",
          "name": "stdout",
          "text": [
            "Model Stopped Learning\n"
          ]
        },
        {
          "output_type": "display_data",
          "data": {
            "text/plain": [
              "<Figure size 432x288 with 1 Axes>"
            ],
            "image/png": "[encoded data removed]"
          },
          "metadata": {
            "needs_background": "light"
          }
        },
        {
          "output_type": "stream",
          "name": "stdout",
          "text": [
            "[11.23939535  0.81522178  0.13102656  2.68675502 -2.5228081  -3.55339498\n",
            " 12.93260437]\n",
            "RMSE\n",
            "8.796248628280743\n",
            "SSE\n",
            "25177.824936215602\n"
          ]
        }
      ]
    },
    {
      "cell_type": "code",
      "source": [
        "reg = LinearRegression(X, y, learningrate = 0.001, maxIteration= 50000, epsilon = 0.001, gd = True, sgd = False, regularization=True, regparameter=100)\n",
        "reg.fit()"
      ],
      "metadata": {
        "colab": {
          "base_uri": "https://localhost:8080/",
          "height": 444
        },
        "id": "egdxWwDBUSS5",
        "outputId": "fc66c1de-1c2c-4740-d91c-3029f1827e2a"
      },
      "execution_count": 285,
      "outputs": [
        {
          "output_type": "stream",
          "name": "stdout",
          "text": [
            "solving using gradient descent with regularization\n"
          ]
        },
        {
          "output_type": "stream",
          "name": "stderr",
          "text": [
            "  0%|          | 25/50000 [00:00<00:06, 7496.79it/s]\n",
            "WARNING:matplotlib.legend:No handles with labels found to put in legend.\n"
          ]
        },
        {
          "output_type": "stream",
          "name": "stdout",
          "text": [
            "Model Stopped Learning\n"
          ]
        },
        {
          "output_type": "display_data",
          "data": {
            "text/plain": [
              "<Figure size 432x288 with 1 Axes>"
            ],
            "image/png": "[encoded data removed]"
          },
          "metadata": {
            "needs_background": "light"
          }
        },
        {
          "output_type": "stream",
          "name": "stdout",
          "text": [
            "[ 7.67092329  0.62692391 -0.45112987 -0.35742824 -0.10138279 -0.51708504\n",
            "  8.83153142]\n",
            "RMSE\n",
            "8.836370682060606\n",
            "SSE\n",
            "20588.228898766392\n"
          ]
        }
      ]
    },
    {
      "cell_type": "code",
      "source": [
        "reg = LinearRegression(X, y, learningrate = 0.001, maxIteration= 50000, epsilon = 0.001, gd = False, sgd = True, regularization=False, regparameter=100)\n",
        "reg.fit()"
      ],
      "metadata": {
        "colab": {
          "base_uri": "https://localhost:8080/",
          "height": 426
        },
        "id": "ttp_FsUAUV0q",
        "outputId": "0e3a536d-63bc-454f-c34b-865ca2243bf3"
      },
      "execution_count": 286,
      "outputs": [
        {
          "output_type": "stream",
          "name": "stdout",
          "text": [
            "solving using stochastic gradient descent\n"
          ]
        },
        {
          "output_type": "stream",
          "name": "stderr",
          "text": [
            "100%|██████████| 50000/50000 [00:04<00:00, 12101.21it/s]\n",
            "WARNING:matplotlib.legend:No handles with labels found to put in legend.\n"
          ]
        },
        {
          "output_type": "display_data",
          "data": {
            "text/plain": [
              "<Figure size 432x288 with 1 Axes>"
            ],
            "image/png": "[encoded data removed]"
          },
          "metadata": {
            "needs_background": "light"
          }
        },
        {
          "output_type": "stream",
          "name": "stdout",
          "text": [
            "[11.47837137 -0.49158317  0.38449104  0.25433014  0.20386804 -0.32419032\n",
            "  0.77659566]\n",
            "RMSE\n",
            "12.799103916536808\n",
            "SSE\n",
            "18839.48743369236\n"
          ]
        }
      ]
    },
    {
      "cell_type": "code",
      "source": [
        "reg = LinearRegression(X, y, learningrate = 0.001, maxIteration= 50000, epsilon = 0.001, gd = False, sgd = True, regularization=True, regparameter=100)\n",
        "reg.fit()"
      ],
      "metadata": {
        "colab": {
          "base_uri": "https://localhost:8080/",
          "height": 426
        },
        "id": "IACKYLCfVQJ3",
        "outputId": "754c2803-4609-46f2-f61c-531e92fa8e51"
      },
      "execution_count": 288,
      "outputs": [
        {
          "output_type": "stream",
          "name": "stdout",
          "text": [
            "solving using stochastic gradient descent\n"
          ]
        },
        {
          "output_type": "stream",
          "name": "stderr",
          "text": [
            "100%|██████████| 50000/50000 [00:03<00:00, 12786.84it/s]\n",
            "WARNING:matplotlib.legend:No handles with labels found to put in legend.\n"
          ]
        },
        {
          "output_type": "display_data",
          "data": {
            "text/plain": [
              "<Figure size 432x288 with 1 Axes>"
            ],
            "image/png": "[encoded data removed]"
          },
          "metadata": {
            "needs_background": "light"
          }
        },
        {
          "output_type": "stream",
          "name": "stdout",
          "text": [
            "[ 3.60729034 -0.34603111 -0.05727368  0.31411656  0.36339504 -0.04173243\n",
            "  0.46648814]\n",
            "RMSE\n",
            "13.75833610373298\n",
            "SSE\n",
            "21852.06260496215\n"
          ]
        }
      ]
    },
    {
      "cell_type": "markdown",
      "source": [
        "# Concrete Data"
      ],
      "metadata": {
        "id": "w901z_pJVYlb"
      }
    },
    {
      "cell_type": "code",
      "source": [
        "# Load CSV file into a numpy array\n",
        "data = np.genfromtxt('concreteData.csv', delimiter=',')\n",
        "\n",
        "# Display the shape of the array\n",
        "print(data.shape)"
      ],
      "metadata": {
        "colab": {
          "base_uri": "https://localhost:8080/"
        },
        "id": "2M8MxFmYVYL6",
        "outputId": "f791c739-d35d-4cdc-b8ed-f4afc7c05ff8"
      },
      "execution_count": 290,
      "outputs": [
        {
          "output_type": "stream",
          "name": "stdout",
          "text": [
            "(1030, 9)\n"
          ]
        }
      ]
    },
    {
      "cell_type": "code",
      "source": [
        "X = data[:,:-1]\n",
        "y = data[:,-1]"
      ],
      "metadata": {
        "id": "5i1CBobIVeMX"
      },
      "execution_count": 291,
      "outputs": []
    },
    {
      "cell_type": "code",
      "source": [
        "reg = LinearRegression(X, y, learningrate = 0.0007, maxIteration= 50000, epsilon = 0.0001, gd = False, sgd = False, regularization=False, regparameter=100)\n",
        "reg.fit()"
      ],
      "metadata": {
        "colab": {
          "base_uri": "https://localhost:8080/"
        },
        "id": "q5SBCPxPVn8b",
        "outputId": "6094b59d-d432-495f-a658-b1e21de18383"
      },
      "execution_count": 292,
      "outputs": [
        {
          "output_type": "stream",
          "name": "stdout",
          "text": [
            "Solving using normal equation\n",
            "Normal Equation without Regularization\n",
            "[35.85368932 12.72547471  9.54463305  5.99752761 -2.82130272  2.10540297\n",
            "  1.85195151  1.95023318  7.17433735]\n",
            "RMSE\n",
            "9.67567754660951\n",
            "SSE\n",
            "179408.9985580014\n"
          ]
        }
      ]
    },
    {
      "cell_type": "code",
      "source": [
        "reg = LinearRegression(X, y, learningrate = 0.001, maxIteration= 50000, epsilon = 0.001, gd = False, sgd = False, regularization=True, regparameter=100)\n",
        "reg.fit()"
      ],
      "metadata": {
        "colab": {
          "base_uri": "https://localhost:8080/"
        },
        "id": "hWgKZdhoVzsl",
        "outputId": "5764a382-7d77-44cd-b256-9cb14afd2fb5"
      },
      "execution_count": 293,
      "outputs": [
        {
          "output_type": "stream",
          "name": "stdout",
          "text": [
            "Solving using normal equation\n",
            "Normal Equation with Regularization\n",
            "[31.48661389  6.96527588  3.90534525  0.93315229 -4.69943377  2.8806971\n",
            " -1.11414466 -2.0182032   5.91158313]\n",
            "RMSE\n",
            "11.111969956642456\n",
            "SSE\n",
            "188672.5826258105\n"
          ]
        }
      ]
    },
    {
      "cell_type": "code",
      "source": [
        "reg = LinearRegression(X, y, learningrate = 0.001, maxIteration= 50000, epsilon = 0.001, gd = True, sgd = False, regularization=False, regparameter=100)\n",
        "reg.fit()"
      ],
      "metadata": {
        "colab": {
          "base_uri": "https://localhost:8080/",
          "height": 444
        },
        "id": "z8YN3PKzV20T",
        "outputId": "1d3c9241-77b6-4c60-e308-0ba9cac2b9f6"
      },
      "execution_count": 294,
      "outputs": [
        {
          "output_type": "stream",
          "name": "stdout",
          "text": [
            "solving using gradient descent\n"
          ]
        },
        {
          "output_type": "stream",
          "name": "stderr",
          "text": [
            "  1%|          | 264/50000 [00:00<00:15, 3109.60it/s]"
          ]
        },
        {
          "output_type": "stream",
          "name": "stdout",
          "text": [
            "Model Stopped Learning\n"
          ]
        },
        {
          "output_type": "stream",
          "name": "stderr",
          "text": [
            "\n",
            "WARNING:matplotlib.legend:No handles with labels found to put in legend.\n"
          ]
        },
        {
          "output_type": "display_data",
          "data": {
            "text/plain": [
              "<Figure size 432x288 with 1 Axes>"
            ],
            "image/png": "[encoded data removed]"
          },
          "metadata": {
            "needs_background": "light"
          }
        },
        {
          "output_type": "stream",
          "name": "stdout",
          "text": [
            "[35.85368932 12.71190286  9.53101788  5.98553758 -2.83291958  2.10379621\n",
            "  1.84122771  1.93695188  7.17397436]\n",
            "RMSE\n",
            "9.675382207038489\n",
            "SSE\n",
            "179398.94319358695\n"
          ]
        }
      ]
    },
    {
      "cell_type": "code",
      "source": [
        "reg = LinearRegression(X, y, learningrate = 0.001, maxIteration= 50000, epsilon = 0.001, gd = True, sgd = False, regularization=True, regparameter=100)\n",
        "reg.fit()"
      ],
      "metadata": {
        "colab": {
          "base_uri": "https://localhost:8080/",
          "height": 444
        },
        "id": "trOC2GQmV6FB",
        "outputId": "426dae23-78b3-4f74-c9ad-ae55f3e29c04"
      },
      "execution_count": 295,
      "outputs": [
        {
          "output_type": "stream",
          "name": "stdout",
          "text": [
            "solving using gradient descent with regularization\n"
          ]
        },
        {
          "output_type": "stream",
          "name": "stderr",
          "text": [
            "  0%|          | 46/50000 [00:00<00:04, 10842.87it/s]\n",
            "WARNING:matplotlib.legend:No handles with labels found to put in legend.\n"
          ]
        },
        {
          "output_type": "stream",
          "name": "stdout",
          "text": [
            "Model Stopped Learning\n"
          ]
        },
        {
          "output_type": "display_data",
          "data": {
            "text/plain": [
              "<Figure size 432x288 with 1 Axes>"
            ],
            "image/png": "[encoded data removed]"
          },
          "metadata": {
            "needs_background": "light"
          }
        },
        {
          "output_type": "stream",
          "name": "stdout",
          "text": [
            "[31.48661389  6.96303396  3.90309616  0.93116932 -4.7013417   2.88044227\n",
            " -1.11590985 -2.02039306  5.91152223]\n",
            "RMSE\n",
            "11.112015919707876\n",
            "SSE\n",
            "188671.5124194882\n"
          ]
        }
      ]
    },
    {
      "cell_type": "code",
      "source": [
        "reg = LinearRegression(X, y, learningrate = 0.001, maxIteration= 50000, epsilon = 0.001, gd = False, sgd = True, regularization=False, regparameter=100)\n",
        "reg.fit()"
      ],
      "metadata": {
        "colab": {
          "base_uri": "https://localhost:8080/",
          "height": 426
        },
        "id": "a36ETuF-V9zy",
        "outputId": "139e6c79-0910-40e0-f654-f6a11f5d0281"
      },
      "execution_count": 296,
      "outputs": [
        {
          "output_type": "stream",
          "name": "stdout",
          "text": [
            "solving using stochastic gradient descent\n"
          ]
        },
        {
          "output_type": "stream",
          "name": "stderr",
          "text": [
            "100%|██████████| 50000/50000 [00:04<00:00, 10904.06it/s]\n",
            "WARNING:matplotlib.legend:No handles with labels found to put in legend.\n"
          ]
        },
        {
          "output_type": "display_data",
          "data": {
            "text/plain": [
              "<Figure size 432x288 with 1 Axes>"
            ],
            "image/png": "[encoded data removed]"
          },
          "metadata": {
            "needs_background": "light"
          }
        },
        {
          "output_type": "stream",
          "name": "stdout",
          "text": [
            "[36.26581239 -0.30367485  0.18589247  0.15152398  0.24036061  0.50612689\n",
            "  0.8530236  -0.67967149  0.28429622]\n",
            "RMSE\n",
            "16.05378119267588\n",
            "SSE\n",
            "110291.72699744318\n"
          ]
        }
      ]
    },
    {
      "cell_type": "code",
      "source": [
        "reg = LinearRegression(X, y, learningrate = 0.001, maxIteration= 50000, epsilon = 0.001, gd = False, sgd = True, regularization=True, regparameter=100)\n",
        "reg.fit()"
      ],
      "metadata": {
        "colab": {
          "base_uri": "https://localhost:8080/",
          "height": 446
        },
        "id": "k4Vm6d6ZWDAb",
        "outputId": "1602bb1b-35ce-44c8-b232-e4cbce085950"
      },
      "execution_count": 297,
      "outputs": [
        {
          "output_type": "stream",
          "name": "stdout",
          "text": [
            "solving using stochastic gradient descent\n"
          ]
        },
        {
          "output_type": "stream",
          "name": "stderr",
          "text": [
            "100%|██████████| 50000/50000 [00:05<00:00, 9934.69it/s] \n",
            "WARNING:matplotlib.legend:No handles with labels found to put in legend.\n"
          ]
        },
        {
          "output_type": "display_data",
          "data": {
            "text/plain": [
              "<Figure size 432x288 with 1 Axes>"
            ],
            "image/png": "[encoded data removed]"
          },
          "metadata": {
            "needs_background": "light"
          }
        },
        {
          "output_type": "stream",
          "name": "stdout",
          "text": [
            "[ 1.22179475e+01 -3.96722677e-01  3.40887726e-04  1.65200137e-01\n",
            " -1.35026481e-01  1.90057206e-01 -1.00917402e-02  1.38308626e-01\n",
            "  2.33572290e-02]\n",
            "RMSE\n",
            "28.566161764412463\n",
            "SSE\n",
            "382040.47953240137\n"
          ]
        }
      ]
    },
    {
      "cell_type": "markdown",
      "source": [
        "We can observe that increasing the learning rate leads to faster convergence of the model. However, this comes at the cost of longer waiting time and a negative impact on its performance due to slower learning rate.\n",
        "\n",
        "Similarly, we have noticed that raising the Regularization Parameter results in a decrease in the RSME value. Regularization leads to a lower Theta value than usual, which helps in avoiding over- and under-fitting."
      ],
      "metadata": {
        "id": "JO_3sihqYTWM"
      }
    }
  ],
  "metadata": {
    "kernelspec": {
      "display_name": "Python 3 (ipykernel)",
      "language": "python",
      "name": "python3"
    },
    "language_info": {
      "codemirror_mode": {
        "name": "ipython",
        "version": 3
      },
      "file_extension": ".py",
      "mimetype": "text/x-python",
      "name": "python",
      "nbconvert_exporter": "python",
      "pygments_lexer": "ipython3",
      "version": "3.9.7"
    },
    "colab": {
      "provenance": []
    }
  },
  "nbformat": 4,
  "nbformat_minor": 0
}
